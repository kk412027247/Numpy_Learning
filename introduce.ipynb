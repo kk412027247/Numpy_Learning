{
 "cells": [
  {
   "cell_type": "code",
   "execution_count": 6,
   "metadata": {},
   "outputs": [
    {
     "name": "stdout",
     "output_type": "stream",
     "text": [
      "[1, 2, 3, 4, 5]\n",
      "1\n"
     ]
    }
   ],
   "source": [
    "#  Numpy is just a special type of array in python\n",
    "# create a basic python array\n",
    "list1 = [1,2,3,4,5]\n",
    "# you could do something about it , for example print the list\n",
    "print(list1)\n",
    "# or print first element\n",
    "print(list1[0])"
   ]
  },
  {
   "cell_type": "code",
   "execution_count": 7,
   "metadata": {},
   "outputs": [
    {
     "name": "stdout",
     "output_type": "stream",
     "text": [
      "[0 1 2 3 4 5 6 7 8 9]\n",
      "(10,)\n"
     ]
    }
   ],
   "source": [
    "# but we can run into some problems using list for large set of data,it's a problem when you start using  massive amounts of data.\n",
    "# and machine learning is all about using massive amounts of data. It is a lot slower.\n",
    "# instead of using a list for data science and machine learning, we use something call a numpy array\n",
    "\n",
    "\n",
    "import numpy as np # type: ignore\n",
    "\n",
    "# ndarray = n-dimensional array, different dimension in array , 3 / 4 / 100 dimension\n",
    "# because we import as np , so we could call it np here \n",
    "np1 = np.array([0,1,2,3,4,5,6,7,8,9])\n",
    "# numpy list just a list , but more powerful\n",
    "print(np1)\n",
    "\n",
    "print(np1.shape)"
   ]
  },
  {
   "cell_type": "code",
   "execution_count": 8,
   "metadata": {},
   "outputs": [
    {
     "name": "stdout",
     "output_type": "stream",
     "text": [
      "[0 1 2 3 4 5 6 7 8 9]\n"
     ]
    }
   ],
   "source": [
    "# we could create np in a quick way, and we get the some thing\n",
    "np2 = np.arange(10)\n",
    "print(np2)"
   ]
  },
  {
   "cell_type": "code",
   "execution_count": 9,
   "metadata": {},
   "outputs": [
    {
     "name": "stdout",
     "output_type": "stream",
     "text": [
      "[0 2 4 6 8]\n"
     ]
    }
   ],
   "source": [
    "# step from 0 to 10 , the step is 2\n",
    "np3 = np.arange(0, 10 , 2)\n",
    "print(np3)"
   ]
  },
  {
   "cell_type": "code",
   "execution_count": 11,
   "metadata": {},
   "outputs": [
    {
     "name": "stdout",
     "output_type": "stream",
     "text": [
      "[0. 0. 0. 0. 0. 0. 0. 0. 0. 0.]\n"
     ]
    }
   ],
   "source": [
    "# Zero\n",
    "np4 = np.zeros(10)\n",
    "# There are 10 zero 0. , because they are not strictly an integer\n",
    "print(np4)"
   ]
  },
  {
   "cell_type": "code",
   "execution_count": 13,
   "metadata": {},
   "outputs": [
    {
     "name": "stdout",
     "output_type": "stream",
     "text": [
      "[[0. 0. 0. 0. 0. 0. 0. 0. 0. 0.]\n",
      " [0. 0. 0. 0. 0. 0. 0. 0. 0. 0.]]\n"
     ]
    }
   ],
   "source": [
    "# Multidimensional zeros\n",
    "np5 = np.zeros((2, 10))\n",
    "print(np5)"
   ]
  },
  {
   "cell_type": "code",
   "execution_count": 14,
   "metadata": {},
   "outputs": [
    {
     "name": "stdout",
     "output_type": "stream",
     "text": [
      "[6 6 6 6 6 6 6 6 6 6]\n"
     ]
    }
   ],
   "source": [
    "# Full\n",
    "np6 = np.full((10), 6)\n",
    "print(np6)"
   ]
  },
  {
   "cell_type": "code",
   "execution_count": 15,
   "metadata": {},
   "outputs": [
    {
     "name": "stdout",
     "output_type": "stream",
     "text": [
      "[[6 6 6 6 6 6 6 6 6 6]\n",
      " [6 6 6 6 6 6 6 6 6 6]]\n"
     ]
    }
   ],
   "source": [
    "# Multidimensional Full\n",
    "np7 = np.full((2,10), 6)\n",
    "print(np7)"
   ]
  },
  {
   "cell_type": "code",
   "execution_count": 17,
   "metadata": {},
   "outputs": [
    {
     "name": "stdout",
     "output_type": "stream",
     "text": [
      "[1 2 3 4 5]\n",
      "1\n"
     ]
    }
   ],
   "source": [
    "# Convert Python lists to np\n",
    "my_list = [1,2,3,4,5]\n",
    "np8 = np.array(my_list)\n",
    "print(np8)\n",
    "print(np8[0])"
   ]
  }
 ],
 "metadata": {
  "kernelspec": {
   "display_name": "tf",
   "language": "python",
   "name": "python3"
  },
  "language_info": {
   "codemirror_mode": {
    "name": "ipython",
    "version": 3
   },
   "file_extension": ".py",
   "mimetype": "text/x-python",
   "name": "python",
   "nbconvert_exporter": "python",
   "pygments_lexer": "ipython3",
   "version": "3.9.16"
  }
 },
 "nbformat": 4,
 "nbformat_minor": 2
}
